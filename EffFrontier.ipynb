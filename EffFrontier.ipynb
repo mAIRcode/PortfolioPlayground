{
 "cells": [
  {
   "cell_type": "code",
   "execution_count": 1,
   "id": "south-palmer",
   "metadata": {},
   "outputs": [],
   "source": [
    "%matplotlib inline\n",
    "import numpy as np\n",
    "import matplotlib.pyplot as plt\n",
    "import cvxopt as opt\n",
    "from cvxopt import blas, solvers\n",
    "import pandas as pd\n",
    "\n",
    "np.random.seed(123)\n",
    "\n",
    "# Source:\n",
    "# https://plotly.com/python/v3/ipython-notebooks/markowitz-portfolio-optimization/\n",
    "\n",
    "# Turn off progress printing \n",
    "solvers.options['show_progress'] = False\n",
    "\n",
    "def optimal_portfolio(returns):\n",
    "    n = len(returns)\n",
    "    returns = np.asmatrix(returns)\n",
    "    \n",
    "    N = 100\n",
    "    mus = [100**(5.0 * t/N - 1.0) for t in range(N)]\n",
    "    \n",
    "    # Convert to cvxopt matrices\n",
    "    S = opt.matrix(np.cov(returns))\n",
    "    \n",
    "    chart = np.cumprod(1+returns, axis=1)\n",
    "    pf_rets = (chart[:,-1] - chart[:,0])/chart[:,0]\n",
    "    pbar = opt.matrix(pf_rets)\n",
    "    \n",
    "    # Create constraint matrices\n",
    "    G = -opt.matrix(np.eye(n))   # negative n x n identity matrix\n",
    "    h = opt.matrix(0.0, (n ,1))\n",
    "    A = opt.matrix(1.0, (1, n))\n",
    "    b = opt.matrix(1.0)\n",
    "    \n",
    "    # Calculate efficient frontier weights using quadratic programming\n",
    "    portfolios = [solvers.qp(mu*S, -pbar, G, h, A, b)['x'] \n",
    "                  for mu in mus]\n",
    "    ## CALCULATE RISKS AND RETURNS FOR FRONTIER\n",
    "    returns = [blas.dot(pbar, x) for x in portfolios]\n",
    "    risks = [np.sqrt(blas.dot(x, S*x)) for x in portfolios]\n",
    "    ## CALCULATE THE 2ND DEGREE POLYNOMIAL OF THE FRONTIER CURVE\n",
    "    m1 = np.polyfit(returns, risks, 2)\n",
    "    x1 = np.sqrt(m1[2] / m1[0])\n",
    "    # CALCULATE THE OPTIMAL PORTFOLIO\n",
    "    wt = solvers.qp(opt.matrix(x1 * S), -pbar, G, h, A, b)['x']\n",
    "    return np.asarray(wt), returns, risks, portfolios"
   ]
  },
  {
   "cell_type": "code",
   "execution_count": 2,
   "id": "attempted-western",
   "metadata": {},
   "outputs": [],
   "source": [
    "rs = list()\n",
    "stds = list()\n",
    "\n",
    "returns = np.random.randn(4, 1000) / 100 # 4 assets, 1000 data points (timeseries)\n",
    "\n",
    "chart = np.cumprod(1+returns, axis=1)\n",
    "pf_rets = (chart[:,-1] - chart[:,0])/chart[:,0]\n",
    "\n",
    "for w in np.random.rand(4, 500).T:  # iterate over random weights\n",
    "    w = w / w.sum()\n",
    "    rs.append(np.sum(pf_rets*w)) # append pf return\n",
    "    stds.append(np.std(np.dot(w, returns)))  # append pf std\n",
    "    \n",
    "# compute efficient frontier\n",
    "opt_weights, eff_returns, eff_risks, portfolios = optimal_portfolio(returns)"
   ]
  },
  {
   "cell_type": "code",
   "execution_count": 3,
   "id": "terminal-taylor",
   "metadata": {},
   "outputs": [
    {
     "data": {
      "image/png": "[encoded data removed]",
      "text/plain": [
       "<Figure size 432x288 with 1 Axes>"
      ]
     },
     "metadata": {
      "needs_background": "light"
     },
     "output_type": "display_data"
    }
   ],
   "source": [
    "fig = plt.Figure(figsize=(10,12))\n",
    "plt.plot(stds, rs, 'o')\n",
    "plt.plot(eff_risks, np.array(eff_returns), marker='.')\n",
    "\n",
    "plt.show()"
   ]
  },
  {
   "cell_type": "code",
   "execution_count": 4,
   "id": "formal-heart",
   "metadata": {},
   "outputs": [
    {
     "data": {
      "image/png": "[encoded data removed]",
      "text/plain": [
       "<Figure size 432x288 with 1 Axes>"
      ]
     },
     "metadata": {
      "needs_background": "light"
     },
     "output_type": "display_data"
    }
   ],
   "source": [
    "# Plot Eff Frontier\n",
    "for p in portfolios:\n",
    "    w = np.squeeze(np.asarray(p))\n",
    "    pf_ = np.sum(pf_rets * w)\n",
    "    stds_ = np.std(np.dot(w, returns))\n",
    "    plt.plot(stds_, pf_, 'x', alpha=.3, color='blue')\n",
    "\n",
    "opt_weights = np.squeeze(np.asarray(opt_weights))\n",
    "pf_ = np.sum(pf_rets * opt_weights)\n",
    "stds_ = np.std(np.dot(opt_weights, returns))\n",
    "\n",
    "plt.plot(stds_, pf_, 'o', color='red')\n",
    "    \n",
    "plt.title('Efficient Frontier & Optimal Portfolio in RED (whatever that is...)')\n",
    "plt.show()\n"
   ]
  },
  {
   "cell_type": "code",
   "execution_count": 5,
   "id": "alternative-retirement",
   "metadata": {},
   "outputs": [
    {
     "data": {
      "text/html": [
       "<div>\n",
       "<style scoped>\n",
       "    .dataframe tbody tr th:only-of-type {\n",
       "        vertical-align: middle;\n",
       "    }\n",
       "\n",
       "    .dataframe tbody tr th {\n",
       "        vertical-align: top;\n",
       "    }\n",
       "\n",
       "    .dataframe thead th {\n",
       "        text-align: right;\n",
       "    }\n",
       "</style>\n",
       "<table border=\"1\" class=\"dataframe\">\n",
       "  <thead>\n",
       "    <tr style=\"text-align: right;\">\n",
       "      <th></th>\n",
       "      <th>eff_pf_returns</th>\n",
       "      <th>eff_pf_volas</th>\n",
       "    </tr>\n",
       "  </thead>\n",
       "  <tbody>\n",
       "    <tr>\n",
       "      <th>0</th>\n",
       "      <td>0.859427</td>\n",
       "      <td>0.009895</td>\n",
       "    </tr>\n",
       "    <tr>\n",
       "      <th>1</th>\n",
       "      <td>0.859427</td>\n",
       "      <td>0.009895</td>\n",
       "    </tr>\n",
       "    <tr>\n",
       "      <th>2</th>\n",
       "      <td>0.859427</td>\n",
       "      <td>0.009895</td>\n",
       "    </tr>\n",
       "    <tr>\n",
       "      <th>3</th>\n",
       "      <td>0.859427</td>\n",
       "      <td>0.009895</td>\n",
       "    </tr>\n",
       "    <tr>\n",
       "      <th>4</th>\n",
       "      <td>0.859427</td>\n",
       "      <td>0.009895</td>\n",
       "    </tr>\n",
       "  </tbody>\n",
       "</table>\n",
       "</div>"
      ],
      "text/plain": [
       "   eff_pf_returns  eff_pf_volas\n",
       "0        0.859427      0.009895\n",
       "1        0.859427      0.009895\n",
       "2        0.859427      0.009895\n",
       "3        0.859427      0.009895\n",
       "4        0.859427      0.009895"
      ]
     },
     "execution_count": 5,
     "metadata": {},
     "output_type": "execute_result"
    }
   ],
   "source": [
    "df = pd.DataFrame([eff_returns, eff_risks], index=['eff_pf_returns', 'eff_pf_volas']).T\n",
    "df.head()"
   ]
  },
  {
   "cell_type": "code",
   "execution_count": null,
   "id": "tired-capacity",
   "metadata": {},
   "outputs": [],
   "source": []
  }
 ],
 "metadata": {
  "kernelspec": {
   "display_name": "Python 3",
   "language": "python",
   "name": "python3"
  },
  "language_info": {
   "codemirror_mode": {
    "name": "ipython",
    "version": 3
   },
   "file_extension": ".py",
   "mimetype": "text/x-python",
   "name": "python",
   "nbconvert_exporter": "python",
   "pygments_lexer": "ipython3",
   "version": "3.8.1"
  },
  "toc": {
   "base_numbering": 1,
   "nav_menu": {},
   "number_sections": true,
   "sideBar": true,
   "skip_h1_title": false,
   "title_cell": "Table of Contents",
   "title_sidebar": "Contents",
   "toc_cell": false,
   "toc_position": {},
   "toc_section_display": true,
   "toc_window_display": false
  }
 },
 "nbformat": 4,
 "nbformat_minor": 5
}
